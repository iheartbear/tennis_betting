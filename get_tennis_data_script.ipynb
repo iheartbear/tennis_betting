{
 "cells": [
  {
   "cell_type": "markdown",
   "metadata": {},
   "source": [
    "#### Download .xlsx (earlier years are in .xls format so you have to run this 2 times) data from tennis website and write to directory "
   ]
  },
  {
   "cell_type": "code",
   "execution_count": null,
   "metadata": {},
   "outputs": [],
   "source": [
    "import requests\n",
    "import pandas as pd\n",
    "\n",
    "base_url = 'http://tennis-data.co.uk'\n",
    "data_dir = 'desktop/coding/sports_betting/tennis'\n",
    "\n",
    "atp_urls = [base_url + '/%i/%i.xlsx' %(i,i) for i in range(2000,2021)]\n",
    "\n",
    "file_names = [data_dir + '/ATP/%i.xlsx' %i for i in range(2000,2021)]\n",
    "\n",
    "for url, file in zip(atp_urls,file_names):\n",
    "    r = requests.get(url, allow_redirects=True)\n",
    "    open(file, 'wb').write(r.content)\n",
    "    \n",
    "# Read files from directory into a pandas dataframe\n",
    "df_atp = pd.concat([pd.read_excel(f) for f in file_names], ignore_index=True)\n",
    "\n",
    "# Store in current directory for ease of use\n",
    "df_atp.to_csv(\"Notebooks_other/df_atp.csv\")"
   ]
  }
 ],
 "metadata": {
  "kernelspec": {
   "display_name": "Python 3",
   "language": "python",
   "name": "python3"
  },
  "language_info": {
   "codemirror_mode": {
    "name": "ipython",
    "version": 3
   },
   "file_extension": ".py",
   "mimetype": "text/x-python",
   "name": "python",
   "nbconvert_exporter": "python",
   "pygments_lexer": "ipython3",
   "version": "3.7.4"
  }
 },
 "nbformat": 4,
 "nbformat_minor": 2
}
