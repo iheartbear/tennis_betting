{
 "cells": [
  {
   "cell_type": "code",
   "execution_count": null,
   "metadata": {},
   "outputs": [],
   "source": [
    "# Function to find players' birthdates. Only works if Wikipedia is the first google result\n",
    "\n",
    "# Google limits the amount of times you can query its search engine before you start having to fill out\n",
    "# a Captcha form, so I switched VPNs after about every 75 iterations. I've attached the birthday .csv file\n",
    "# so you'd only have to run this function to update the list if there are new players.\n",
    "\n",
    "def player_birthday(name):\n",
    "    query = name + '+birthday+tennis+wikipedia'\n",
    "    URL = 'https://google.com/search?q=' + query + '&num=10'\n",
    "    USER_AGENT = 'Mozilla/5.0 (Macintosh; Intel Mac OS X 10.14; rv:65.0) Gecko/20100101 Firefox/65.0'\n",
    "    headers = {'user-agent' : USER_AGENT}\n",
    "    resp = requests.get(URL, headers=headers)\n",
    "    soup = BeautifulSoup(resp.content, 'html5lib')\n",
    "    result_divs = soup.findAll('div',{'class':'r'})\n",
    "    links = [div.find('a') for div in result_divs]\n",
    "    hrefs = [link.get('href') for link in links]\n",
    "    for refs in hrefs:\n",
    "        if 'wikipedia' in refs:\n",
    "            new_url = refs\n",
    "            break\n",
    "    \n",
    "    page = requests.get(new_url, headers=headers)\n",
    "    soup = BeautifulSoup(page.content, 'html5lib')\n",
    "    badge = soup.findAll('span', {'class':'bday'})\n",
    "    bday = badge[0].text\n",
    "    return bday"
   ]
  }
 ],
 "metadata": {
  "kernelspec": {
   "display_name": "Python 3",
   "language": "python",
   "name": "python3"
  },
  "language_info": {
   "codemirror_mode": {
    "name": "ipython",
    "version": 3
   },
   "file_extension": ".py",
   "mimetype": "text/x-python",
   "name": "python",
   "nbconvert_exporter": "python",
   "pygments_lexer": "ipython3",
   "version": "3.7.4"
  }
 },
 "nbformat": 4,
 "nbformat_minor": 2
}
